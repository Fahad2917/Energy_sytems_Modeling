{
 "cells": [
  {
   "cell_type": "markdown",
   "id": "217ae33d-6da9-42db-92ae-5acea247d1fb",
   "metadata": {},
   "source": [
    "# Pyomo Method\n"
   ]
  },
  {
   "cell_type": "markdown",
   "id": "e55215ff-1e8d-4b07-98af-d5828dc213e6",
   "metadata": {},
   "source": [
    "#### (i) und (iii)\n"
   ]
  },
  {
   "cell_type": "code",
   "execution_count": 76,
   "id": "43d9cab9-8dc3-494c-8066-1dccc184d1de",
   "metadata": {},
   "outputs": [],
   "source": [
    "model = pe.ConcreteModel()\n",
    "model.dual = pe.Suffix(direction=pe.Suffix.IMPORT)"
   ]
  },
  {
   "cell_type": "code",
   "execution_count": 77,
   "id": "63cd2cc3-f657-4815-85c9-cb1a809bb52a",
   "metadata": {},
   "outputs": [],
   "source": [
    "model.countries = pe.Set(initialize=Demands.keys())"
   ]
  },
  {
   "cell_type": "code",
   "execution_count": 78,
   "id": "2c167e55-3c0d-4f48-893f-5501be4afece",
   "metadata": {},
   "outputs": [],
   "source": [
    "model.technologies =pe.Set(initialize=technologies)"
   ]
  },
  {
   "cell_type": "code",
   "execution_count": 79,
   "id": "98688d00-6db2-49f0-8585-f5102f9a5622",
   "metadata": {},
   "outputs": [],
   "source": [
    "model.gnratn = pe.Var(model.countries, model.technologies, within=pe.NonNegativeReals)"
   ]
  },
  {
   "cell_type": "code",
   "execution_count": 80,
   "id": "65f0b3b3-b62e-43ea-9212-084fdf3ba0a9",
   "metadata": {},
   "outputs": [],
   "source": [
    "model.func = pe.Var()"
   ]
  },
  {
   "cell_type": "markdown",
   "id": "bb4a749f-a518-4019-b8f7-053dda18c60c",
   "metadata": {},
   "source": [
    "##### trasmission flow\n",
    "varables\n"
   ]
  },
  {
   "cell_type": "code",
   "execution_count": 81,
   "id": "26dca52f-c88d-4311-8fc9-474bf2147e86",
   "metadata": {},
   "outputs": [],
   "source": [
    "model.f1 =pe.Var()\n",
    "\n",
    "model.f2 =pe.Var()\n",
    "\n",
    "model.f3 =pe.Var()"
   ]
  },
  {
   "cell_type": "markdown",
   "id": "b444b318-233a-46de-9fdf-069ccb966baf",
   "metadata": {},
   "source": [
    "#### Transmission Constraints"
   ]
  },
  {
   "cell_type": "code",
   "execution_count": 82,
   "id": "95e64b3c-1d29-4cca-89d6-d503a7ce8a26",
   "metadata": {},
   "outputs": [
    {
     "name": "stdout",
     "output_type": "stream",
     "text": [
      "AL_BR : Size=1, Index=None, Active=True\n",
      "    Key  : Lower  : Body : Upper : Active\n",
      "    None : -600.0 :   f1 : 600.0 :   True\n",
      "BR_CO : Size=1, Index=None, Active=True\n",
      "    Key  : Lower : Body : Upper : Active\n",
      "    None : -50.0 :   f2 :  50.0 :   True\n",
      "AL_CO : Size=1, Index=None, Active=True\n",
      "    Key  : Lower  : Body : Upper : Active\n",
      "    None : -200.0 :   f3 : 200.0 :   True\n"
     ]
    }
   ],
   "source": [
    "model.AL_BR = pe.Constraint(expr=(-600, model.f1, 600))\n",
    "\n",
    "model.BR_CO = pe.Constraint(expr=(-50, model.f2, 50))\n",
    "\n",
    "model.AL_CO = pe.Constraint(expr=(-200, model.f3, 200))\n",
    "\n",
    "model.AL_BR.pprint()\n",
    "\n",
    "model.BR_CO.pprint()\n",
    "\n",
    "model.AL_CO.pprint()"
   ]
  },
  {
   "cell_type": "markdown",
   "id": "51233e05-5d5a-4c89-a8d6-7fcec1a8bff4",
   "metadata": {},
   "source": [
    "##### KCL Constraint creation for each country"
   ]
  },
  {
   "cell_type": "code",
   "execution_count": 83,
   "id": "5a71b251-492f-4c17-8325-d89c9dc24791",
   "metadata": {},
   "outputs": [
    {
     "name": "stdout",
     "output_type": "stream",
     "text": [
      "kcl : Size=3, Index=countries, Active=True\n",
      "    Key : Lower   : Body                                                                                  : Upper   : Active\n",
      "     AL : 64000.0 : gnratn[AL,Coal] + gnratn[AL,Wind&Solar] + gnratn[AL,Gas] + gnratn[AL,Hydro] - f1 - f3 : 64000.0 :   True\n",
      "     BR :  1200.0 : gnratn[BR,Coal] + gnratn[BR,Wind&Solar] + gnratn[BR,Gas] + gnratn[BR,Hydro] + f1 - f2 :  1200.0 :   True\n",
      "     CO :   800.0 : gnratn[CO,Coal] + gnratn[CO,Wind&Solar] + gnratn[CO,Gas] + gnratn[CO,Hydro] + f2 + f3 :   800.0 :   True\n"
     ]
    }
   ],
   "source": [
    "@model.Constraint(model.countries)\n",
    "def kcl(model, c):\n",
    "    genrtr_sum = sum(model.gnratn[c, s] for s in model.technologies)\n",
    "    if c == \"AL\":\n",
    "        return genrtr_sum - model.f1 - model.f3 == Demands[c]\n",
    "    if c == \"BR\":\n",
    "        return genrtr_sum + model.f1 - model.f2 == Demands[c]\n",
    "    if c == \"CO\":\n",
    "        return genrtr_sum + model.f2 + model.f3 == Demands[c]\n",
    "\n",
    "model.kcl.pprint()"
   ]
  },
  {
   "cell_type": "code",
   "execution_count": 84,
   "id": "7fc71e7d-c7a3-4848-9171-9f1d4a4f60c8",
   "metadata": {},
   "outputs": [
    {
     "name": "stdout",
     "output_type": "stream",
     "text": [
      "kvl : Size=1, Index=None, Active=True\n",
      "    Key  : Lower : Body         : Upper : Active\n",
      "    None :   0.0 : f3 - f2 - f1 :   0.0 :   True\n"
     ]
    }
   ],
   "source": [
    "# KVL Constraint for countries\n",
    "model.kvl = pe.Constraint(expr= model.f3 - model.f2 -model.f1 == 0)\n",
    "model.kvl.pprint()"
   ]
  },
  {
   "cell_type": "code",
   "execution_count": 85,
   "id": "52994dc7-1589-46cd-8e92-529f7bcb4447",
   "metadata": {},
   "outputs": [
    {
     "name": "stdout",
     "output_type": "stream",
     "text": [
      "gnrtr_lim : Size=12, Index=gnrtr_lim_index, Active=True\n",
      "    Key                  : Lower : Body                  : Upper   : Active\n",
      "          ('AL', 'Coal') :  -Inf :       gnratn[AL,Coal] : 51000.0 :   True\n",
      "           ('AL', 'Gas') :  -Inf :        gnratn[AL,Gas] : 12500.0 :   True\n",
      "         ('AL', 'Hydro') :  -Inf :      gnratn[AL,Hydro] :     0.0 :   True\n",
      "    ('AL', 'Wind&Solar') :  -Inf : gnratn[AL,Wind&Solar] :  9000.0 :   True\n",
      "          ('BR', 'Coal') :  -Inf :       gnratn[BR,Coal] :     0.0 :   True\n",
      "           ('BR', 'Gas') :  -Inf :        gnratn[BR,Gas] :  1000.0 :   True\n",
      "         ('BR', 'Hydro') :  -Inf :      gnratn[BR,Hydro] :  2100.0 :   True\n",
      "    ('BR', 'Wind&Solar') :  -Inf : gnratn[BR,Wind&Solar] :     0.0 :   True\n",
      "          ('CO', 'Coal') :  -Inf :       gnratn[CO,Coal] :     0.0 :   True\n",
      "           ('CO', 'Gas') :  -Inf :        gnratn[CO,Gas] :     0.0 :   True\n",
      "         ('CO', 'Hydro') :  -Inf :      gnratn[CO,Hydro] :  1400.0 :   True\n",
      "    ('CO', 'Wind&Solar') :  -Inf : gnratn[CO,Wind&Solar] :     0.0 :   True\n"
     ]
    }
   ],
   "source": [
    "# Generator Constraints\n",
    "@model.Constraint(model.countries, model.technologies)\n",
    "def gnrtr_lim(m, c, s):\n",
    "    return model.gnratn[c,s] <= power_plants[c].get(s, 0)\n",
    "\n",
    "model.gnrtr_lim.pprint()"
   ]
  },
  {
   "cell_type": "markdown",
   "id": "6e7c0c6f-8fa4-4705-bcdf-57c34400267a",
   "metadata": {},
   "source": [
    "## Task 3a (ii)"
   ]
  },
  {
   "cell_type": "code",
   "execution_count": 86,
   "id": "0704075e-9249-4ee8-86c7-d53a71e4f40a",
   "metadata": {},
   "outputs": [
    {
     "name": "stdout",
     "output_type": "stream",
     "text": [
      "cost : Size=1, Index=None, Active=True\n",
      "    Key  : Active : Sense    : Expression\n",
      "    None :   True : minimize : 34*gnratn[AL,Coal] + 0*gnratn[AL,Wind&Solar] + 75*gnratn[AL,Gas] + 0*gnratn[AL,Hydro] + 0*gnratn[BR,Coal] + 0*gnratn[BR,Wind&Solar] + 75*gnratn[BR,Gas] + 5*gnratn[BR,Hydro] + 0*gnratn[CO,Coal] + 0*gnratn[CO,Wind&Solar] + 0*gnratn[CO,Gas] + 8*gnratn[CO,Hydro]\n"
     ]
    }
   ],
   "source": [
    "model.cost = pe.Objective(expr=sum(model.gnratn[c, s] * marginal_cost[c][s] for c in model.countries for s in model.technologies))\n",
    "model.cost.pprint()"
   ]
  },
  {
   "cell_type": "markdown",
   "id": "69524d9e-bce7-4523-8495-d894880caad2",
   "metadata": {},
   "source": [
    "#### Task 3a (iv)"
   ]
  },
  {
   "cell_type": "code",
   "execution_count": null,
   "id": "eb1fdca5-6c47-4dca-8494-e386faeb5b5c",
   "metadata": {},
   "outputs": [],
   "source": []
  },
  {
   "cell_type": "code",
   "execution_count": 87,
   "id": "a6b93bd5-3b3d-4a33-a784-cdff91869412",
   "metadata": {},
   "outputs": [
    {
     "name": "stderr",
     "output_type": "stream",
     "text": [
      "INFO:pyomo.contrib.appsi.solvers.highs:WARNING: No semi-integer/integer variables in model with non-empty integrality\n",
      "INFO:pyomo.contrib.appsi.solvers.highs:Presolving model\n",
      "INFO:pyomo.contrib.appsi.solvers.highs:3 rows, 7 cols, 11 nonzeros\n",
      "INFO:pyomo.contrib.appsi.solvers.highs:0 rows, 0 cols, 0 nonzeros\n",
      "INFO:pyomo.contrib.appsi.solvers.highs:Presolve : Reductions: rows 0(-19); columns 0(-16); elements 0(-36) - Reduced to empty\n",
      "INFO:pyomo.contrib.appsi.solvers.highs:Solving the original LP from the solution after postsolve\n",
      "INFO:pyomo.contrib.appsi.solvers.highs:Model   status      : Optimal\n",
      "INFO:pyomo.contrib.appsi.solvers.highs:Objective value     :  2.0153500000e+06\n",
      "INFO:pyomo.contrib.appsi.solvers.highs:HiGHS run time      :          0.00\n"
     ]
    },
    {
     "name": "stdout",
     "output_type": "stream",
     "text": [
      "Running HiGHS 1.5.3 [date: 2023-05-16, git hash: 594fa5a9d]\n",
      "Copyright (c) 2023 HiGHS under MIT licence terms\n",
      "# ==========================================================\n",
      "# = Solver Results                                         =\n",
      "# ==========================================================\n",
      "# ----------------------------------------------------------\n",
      "#   Problem Information\n",
      "# ----------------------------------------------------------\n",
      "Problem: \n",
      "- Lower bound: 2015350.0\n",
      "  Upper bound: 2015350.0\n",
      "  Number of objectives: 1\n",
      "  Number of constraints: 0\n",
      "  Number of variables: 0\n",
      "  Sense: 1\n",
      "# ----------------------------------------------------------\n",
      "#   Solver Information\n",
      "# ----------------------------------------------------------\n",
      "Solver: \n",
      "- Status: ok\n",
      "  Termination condition: optimal\n",
      "  Termination message: TerminationCondition.optimal\n",
      "# ----------------------------------------------------------\n",
      "#   Solution Information\n",
      "# ----------------------------------------------------------\n",
      "Solution: \n",
      "- number of solutions: 0\n",
      "  number of solutions displayed: 0\n"
     ]
    }
   ],
   "source": [
    "pe.SolverFactory(\"appsi_highs\").solve(model).write()"
   ]
  },
  {
   "cell_type": "markdown",
   "id": "e69c47e7-aec3-4d90-9952-a2d595eecd27",
   "metadata": {},
   "source": [
    "#### Task 3a (v)"
   ]
  },
  {
   "cell_type": "code",
   "execution_count": 88,
   "id": "faaa0b18-9c33-45fa-a126-9e9afd8470ca",
   "metadata": {},
   "outputs": [
    {
     "name": "stdout",
     "output_type": "stream",
     "text": [
      "Generator dispatch for all power platns in MW\n"
     ]
    },
    {
     "data": {
      "text/html": [
       "<div>\n",
       "<style scoped>\n",
       "    .dataframe tbody tr th:only-of-type {\n",
       "        vertical-align: middle;\n",
       "    }\n",
       "\n",
       "    .dataframe tbody tr th {\n",
       "        vertical-align: top;\n",
       "    }\n",
       "\n",
       "    .dataframe thead th {\n",
       "        text-align: right;\n",
       "    }\n",
       "</style>\n",
       "<table border=\"1\" class=\"dataframe\">\n",
       "  <thead>\n",
       "    <tr style=\"text-align: right;\">\n",
       "      <th></th>\n",
       "      <th>Coal</th>\n",
       "      <th>Gas</th>\n",
       "      <th>Hydro</th>\n",
       "      <th>Wind&amp;Solar</th>\n",
       "    </tr>\n",
       "  </thead>\n",
       "  <tbody>\n",
       "    <tr>\n",
       "      <th>AL</th>\n",
       "      <td>51000.0</td>\n",
       "      <td>3550.0</td>\n",
       "      <td>-0.0</td>\n",
       "      <td>9000.0</td>\n",
       "    </tr>\n",
       "    <tr>\n",
       "      <th>BR</th>\n",
       "      <td>-0.0</td>\n",
       "      <td>0.0</td>\n",
       "      <td>1500.0</td>\n",
       "      <td>-0.0</td>\n",
       "    </tr>\n",
       "    <tr>\n",
       "      <th>CO</th>\n",
       "      <td>-0.0</td>\n",
       "      <td>-0.0</td>\n",
       "      <td>950.0</td>\n",
       "      <td>-0.0</td>\n",
       "    </tr>\n",
       "  </tbody>\n",
       "</table>\n",
       "</div>"
      ],
      "text/plain": [
       "       Coal     Gas   Hydro  Wind&Solar\n",
       "AL  51000.0  3550.0    -0.0      9000.0\n",
       "BR     -0.0     0.0  1500.0        -0.0\n",
       "CO     -0.0    -0.0   950.0        -0.0"
      ]
     },
     "execution_count": 88,
     "metadata": {},
     "output_type": "execute_result"
    }
   ],
   "source": [
    "print(\"Generator dispatch for all power platns in MW\")\n",
    "\n",
    "dis_genr= pd.Series(model.gnratn.get_values()).unstack()\n",
    "dis_genr\n"
   ]
  },
  {
   "cell_type": "code",
   "execution_count": 89,
   "id": "b5539613-c0ce-44c6-93f8-414234239b2a",
   "metadata": {},
   "outputs": [
    {
     "name": "stdout",
     "output_type": "stream",
     "text": [
      "The power flows between countries is as follows (MW) . -ve sign shows coming in opposit direction or oposit direction of flow\n",
      "Flow between Alori to Baray is -250 MW \n",
      "Flow between Baray to corsova is 50 MW \n",
      "Flow between Alori to corsova is -200 MW \n"
     ]
    }
   ],
   "source": [
    "print (\"The power flows between countries is as follows (MW) . -ve sign shows coming in opposit direction or oposit direction of flow\")\n",
    "\n",
    "print (\"Flow between Alori to Baray is %.0f MW \" % model.f1())\n",
    "\n",
    "print (\"Flow between Baray to corsova is %.0f MW \" % model.f2())\n",
    "\n",
    "print (\"Flow between Alori to corsova is %.0f MW \" % model.f3())"
   ]
  },
  {
   "cell_type": "code",
   "execution_count": 90,
   "id": "e25aa175-b6b5-4c37-9567-f1dbf202e255",
   "metadata": {},
   "outputs": [
    {
     "name": "stdout",
     "output_type": "stream",
     "text": [
      "Total cost for the system is  2.0154  million €\n"
     ]
    }
   ],
   "source": [
    "cost_frm_pyomo = model.cost() / 1e6\n",
    "print(\"Total cost for the system is \", round(cost_frm_pyomo,4),\" million €\")"
   ]
  },
  {
   "cell_type": "code",
   "execution_count": 91,
   "id": "76378803-3e7f-4f57-a8b2-82eb1e617cba",
   "metadata": {},
   "outputs": [
    {
     "name": "stdout",
     "output_type": "stream",
     "text": [
      "Market price for all countries (€/MWh)\n"
     ]
    },
    {
     "data": {
      "text/plain": [
       "(0      -0.0\n",
       " 1     -73.0\n",
       " 2     137.0\n",
       " 3      75.0\n",
       " 4       5.0\n",
       " 5       8.0\n",
       " 6     -70.0\n",
       " 7     -41.0\n",
       " 8     -75.0\n",
       " 9      -0.0\n",
       " 10    -75.0\n",
       " 11     -5.0\n",
       " 12     -5.0\n",
       " 13     -0.0\n",
       " 14     -0.0\n",
       " 15     -8.0\n",
       " 16     -8.0\n",
       " 17     -8.0\n",
       " 18     -0.0\n",
       " dtype: float64,\n",
       " KeysView(<pyomo.core.base.suffix.Suffix object at 0x14d3f7c50>))"
      ]
     },
     "execution_count": 91,
     "metadata": {},
     "output_type": "execute_result"
    }
   ],
   "source": [
    "print(\"Market price for all countries (€/MWh)\")\n",
    "con_price = pd.Series(model.dual.values()), model.dual.keys()\n",
    "con_price"
   ]
  },
  {
   "cell_type": "markdown",
   "id": "03e614ff-bea2-49e4-bdd8-0b7271c14664",
   "metadata": {},
   "source": [
    "## Task 3B\n"
   ]
  },
  {
   "cell_type": "code",
   "execution_count": null,
   "id": "b8a3d8da-8bda-44e2-8e22-090ad439e990",
   "metadata": {},
   "outputs": [],
   "source": []
  },
  {
   "cell_type": "code",
   "execution_count": 92,
   "id": "70e3336e-bb99-4328-9c69-a3651f94e8af",
   "metadata": {},
   "outputs": [],
   "source": [
    "### (i) \n",
    "\n",
    "net = pypsa.Network()"
   ]
  },
  {
   "cell_type": "code",
   "execution_count": 93,
   "id": "6c1f2231-3c85-4c3f-9d29-a2cdd993ac9d",
   "metadata": {},
   "outputs": [],
   "source": [
    "# (ii) - To add generators, lines , loads to the network\n",
    "net.add(\"Bus\", \"AL\")\n",
    "net.add(\"Bus\", \"BR\")\n",
    "net.add(\"Bus\", \"CO\")"
   ]
  },
  {
   "cell_type": "code",
   "execution_count": 94,
   "id": "301bd2cd-6e8e-445e-8252-cc7a9648bc14",
   "metadata": {},
   "outputs": [
    {
     "data": {
      "text/html": [
       "<div>\n",
       "<style scoped>\n",
       "    .dataframe tbody tr th:only-of-type {\n",
       "        vertical-align: middle;\n",
       "    }\n",
       "\n",
       "    .dataframe tbody tr th {\n",
       "        vertical-align: top;\n",
       "    }\n",
       "\n",
       "    .dataframe thead th {\n",
       "        text-align: right;\n",
       "    }\n",
       "</style>\n",
       "<table border=\"1\" class=\"dataframe\">\n",
       "  <thead>\n",
       "    <tr style=\"text-align: right;\">\n",
       "      <th>attribute</th>\n",
       "      <th>bus</th>\n",
       "      <th>control</th>\n",
       "      <th>type</th>\n",
       "      <th>p_nom</th>\n",
       "      <th>p_nom_mod</th>\n",
       "      <th>p_nom_extendable</th>\n",
       "      <th>p_nom_min</th>\n",
       "      <th>p_nom_max</th>\n",
       "      <th>p_min_pu</th>\n",
       "      <th>p_max_pu</th>\n",
       "      <th>...</th>\n",
       "      <th>min_up_time</th>\n",
       "      <th>min_down_time</th>\n",
       "      <th>up_time_before</th>\n",
       "      <th>down_time_before</th>\n",
       "      <th>ramp_limit_up</th>\n",
       "      <th>ramp_limit_down</th>\n",
       "      <th>ramp_limit_start_up</th>\n",
       "      <th>ramp_limit_shut_down</th>\n",
       "      <th>weight</th>\n",
       "      <th>p_nom_opt</th>\n",
       "    </tr>\n",
       "    <tr>\n",
       "      <th>Generator</th>\n",
       "      <th></th>\n",
       "      <th></th>\n",
       "      <th></th>\n",
       "      <th></th>\n",
       "      <th></th>\n",
       "      <th></th>\n",
       "      <th></th>\n",
       "      <th></th>\n",
       "      <th></th>\n",
       "      <th></th>\n",
       "      <th></th>\n",
       "      <th></th>\n",
       "      <th></th>\n",
       "      <th></th>\n",
       "      <th></th>\n",
       "      <th></th>\n",
       "      <th></th>\n",
       "      <th></th>\n",
       "      <th></th>\n",
       "      <th></th>\n",
       "      <th></th>\n",
       "    </tr>\n",
       "  </thead>\n",
       "  <tbody>\n",
       "    <tr>\n",
       "      <th>AL Coal</th>\n",
       "      <td>AL</td>\n",
       "      <td>PQ</td>\n",
       "      <td></td>\n",
       "      <td>51000.0</td>\n",
       "      <td>0.0</td>\n",
       "      <td>False</td>\n",
       "      <td>0.0</td>\n",
       "      <td>inf</td>\n",
       "      <td>0.0</td>\n",
       "      <td>1.0</td>\n",
       "      <td>...</td>\n",
       "      <td>0</td>\n",
       "      <td>0</td>\n",
       "      <td>1</td>\n",
       "      <td>0</td>\n",
       "      <td>NaN</td>\n",
       "      <td>NaN</td>\n",
       "      <td>1.0</td>\n",
       "      <td>1.0</td>\n",
       "      <td>1.0</td>\n",
       "      <td>0.0</td>\n",
       "    </tr>\n",
       "    <tr>\n",
       "      <th>AL Wind&amp;Solar</th>\n",
       "      <td>AL</td>\n",
       "      <td>PQ</td>\n",
       "      <td></td>\n",
       "      <td>9000.0</td>\n",
       "      <td>0.0</td>\n",
       "      <td>False</td>\n",
       "      <td>0.0</td>\n",
       "      <td>inf</td>\n",
       "      <td>0.0</td>\n",
       "      <td>1.0</td>\n",
       "      <td>...</td>\n",
       "      <td>0</td>\n",
       "      <td>0</td>\n",
       "      <td>1</td>\n",
       "      <td>0</td>\n",
       "      <td>NaN</td>\n",
       "      <td>NaN</td>\n",
       "      <td>1.0</td>\n",
       "      <td>1.0</td>\n",
       "      <td>1.0</td>\n",
       "      <td>0.0</td>\n",
       "    </tr>\n",
       "    <tr>\n",
       "      <th>AL Gas</th>\n",
       "      <td>AL</td>\n",
       "      <td>PQ</td>\n",
       "      <td></td>\n",
       "      <td>12500.0</td>\n",
       "      <td>0.0</td>\n",
       "      <td>False</td>\n",
       "      <td>0.0</td>\n",
       "      <td>inf</td>\n",
       "      <td>0.0</td>\n",
       "      <td>1.0</td>\n",
       "      <td>...</td>\n",
       "      <td>0</td>\n",
       "      <td>0</td>\n",
       "      <td>1</td>\n",
       "      <td>0</td>\n",
       "      <td>NaN</td>\n",
       "      <td>NaN</td>\n",
       "      <td>1.0</td>\n",
       "      <td>1.0</td>\n",
       "      <td>1.0</td>\n",
       "      <td>0.0</td>\n",
       "    </tr>\n",
       "    <tr>\n",
       "      <th>BR Gas</th>\n",
       "      <td>BR</td>\n",
       "      <td>PQ</td>\n",
       "      <td></td>\n",
       "      <td>1000.0</td>\n",
       "      <td>0.0</td>\n",
       "      <td>False</td>\n",
       "      <td>0.0</td>\n",
       "      <td>inf</td>\n",
       "      <td>0.0</td>\n",
       "      <td>1.0</td>\n",
       "      <td>...</td>\n",
       "      <td>0</td>\n",
       "      <td>0</td>\n",
       "      <td>1</td>\n",
       "      <td>0</td>\n",
       "      <td>NaN</td>\n",
       "      <td>NaN</td>\n",
       "      <td>1.0</td>\n",
       "      <td>1.0</td>\n",
       "      <td>1.0</td>\n",
       "      <td>0.0</td>\n",
       "    </tr>\n",
       "    <tr>\n",
       "      <th>BR Hydro</th>\n",
       "      <td>BR</td>\n",
       "      <td>PQ</td>\n",
       "      <td></td>\n",
       "      <td>2100.0</td>\n",
       "      <td>0.0</td>\n",
       "      <td>False</td>\n",
       "      <td>0.0</td>\n",
       "      <td>inf</td>\n",
       "      <td>0.0</td>\n",
       "      <td>1.0</td>\n",
       "      <td>...</td>\n",
       "      <td>0</td>\n",
       "      <td>0</td>\n",
       "      <td>1</td>\n",
       "      <td>0</td>\n",
       "      <td>NaN</td>\n",
       "      <td>NaN</td>\n",
       "      <td>1.0</td>\n",
       "      <td>1.0</td>\n",
       "      <td>1.0</td>\n",
       "      <td>0.0</td>\n",
       "    </tr>\n",
       "    <tr>\n",
       "      <th>CO Hydro</th>\n",
       "      <td>CO</td>\n",
       "      <td>PQ</td>\n",
       "      <td></td>\n",
       "      <td>1400.0</td>\n",
       "      <td>0.0</td>\n",
       "      <td>False</td>\n",
       "      <td>0.0</td>\n",
       "      <td>inf</td>\n",
       "      <td>0.0</td>\n",
       "      <td>1.0</td>\n",
       "      <td>...</td>\n",
       "      <td>0</td>\n",
       "      <td>0</td>\n",
       "      <td>1</td>\n",
       "      <td>0</td>\n",
       "      <td>NaN</td>\n",
       "      <td>NaN</td>\n",
       "      <td>1.0</td>\n",
       "      <td>1.0</td>\n",
       "      <td>1.0</td>\n",
       "      <td>0.0</td>\n",
       "    </tr>\n",
       "  </tbody>\n",
       "</table>\n",
       "<p>6 rows × 34 columns</p>\n",
       "</div>"
      ],
      "text/plain": [
       "attribute     bus control type    p_nom  p_nom_mod  p_nom_extendable  \\\n",
       "Generator                                                              \n",
       "AL Coal        AL      PQ       51000.0        0.0             False   \n",
       "AL Wind&Solar  AL      PQ        9000.0        0.0             False   \n",
       "AL Gas         AL      PQ       12500.0        0.0             False   \n",
       "BR Gas         BR      PQ        1000.0        0.0             False   \n",
       "BR Hydro       BR      PQ        2100.0        0.0             False   \n",
       "CO Hydro       CO      PQ        1400.0        0.0             False   \n",
       "\n",
       "attribute      p_nom_min  p_nom_max  p_min_pu  p_max_pu  ...  min_up_time  \\\n",
       "Generator                                                ...                \n",
       "AL Coal              0.0        inf       0.0       1.0  ...            0   \n",
       "AL Wind&Solar        0.0        inf       0.0       1.0  ...            0   \n",
       "AL Gas               0.0        inf       0.0       1.0  ...            0   \n",
       "BR Gas               0.0        inf       0.0       1.0  ...            0   \n",
       "BR Hydro             0.0        inf       0.0       1.0  ...            0   \n",
       "CO Hydro             0.0        inf       0.0       1.0  ...            0   \n",
       "\n",
       "attribute      min_down_time  up_time_before down_time_before  ramp_limit_up  \\\n",
       "Generator                                                                      \n",
       "AL Coal                    0               1                0            NaN   \n",
       "AL Wind&Solar              0               1                0            NaN   \n",
       "AL Gas                     0               1                0            NaN   \n",
       "BR Gas                     0               1                0            NaN   \n",
       "BR Hydro                   0               1                0            NaN   \n",
       "CO Hydro                   0               1                0            NaN   \n",
       "\n",
       "attribute      ramp_limit_down  ramp_limit_start_up  ramp_limit_shut_down  \\\n",
       "Generator                                                                   \n",
       "AL Coal                    NaN                  1.0                   1.0   \n",
       "AL Wind&Solar              NaN                  1.0                   1.0   \n",
       "AL Gas                     NaN                  1.0                   1.0   \n",
       "BR Gas                     NaN                  1.0                   1.0   \n",
       "BR Hydro                   NaN                  1.0                   1.0   \n",
       "CO Hydro                   NaN                  1.0                   1.0   \n",
       "\n",
       "attribute      weight  p_nom_opt  \n",
       "Generator                         \n",
       "AL Coal           1.0        0.0  \n",
       "AL Wind&Solar     1.0        0.0  \n",
       "AL Gas            1.0        0.0  \n",
       "BR Gas            1.0        0.0  \n",
       "BR Hydro          1.0        0.0  \n",
       "CO Hydro          1.0        0.0  \n",
       "\n",
       "[6 rows x 34 columns]"
      ]
     },
     "execution_count": 94,
     "metadata": {},
     "output_type": "execute_result"
    }
   ],
   "source": [
    "for key in power_plants.keys():\n",
    "    for technologies, p_nom in power_plants[key].items():\n",
    "        net.add(\"Generator\",\n",
    "              f\"{key} {technologies}\",\n",
    "              bus=key,\n",
    "              carrier=technologies,\n",
    "              p_nom=p_nom,\n",
    "              marginal_cost=marginal_cost[key][technologies]\n",
    "              )\n",
    "    net.add(\"Load\",\n",
    "          f\"{key} electricity demand\",\n",
    "          bus=key,\n",
    "          p_set=Demands[key],\n",
    "          carrier='electricity',\n",
    "          )\n",
    "net.generators"
   ]
  },
  {
   "cell_type": "code",
   "execution_count": 95,
   "id": "5459d671-7a54-4a8e-a793-b8fe36917398",
   "metadata": {},
   "outputs": [
    {
     "data": {
      "text/html": [
       "<div>\n",
       "<style scoped>\n",
       "    .dataframe tbody tr th:only-of-type {\n",
       "        vertical-align: middle;\n",
       "    }\n",
       "\n",
       "    .dataframe tbody tr th {\n",
       "        vertical-align: top;\n",
       "    }\n",
       "\n",
       "    .dataframe thead th {\n",
       "        text-align: right;\n",
       "    }\n",
       "</style>\n",
       "<table border=\"1\" class=\"dataframe\">\n",
       "  <thead>\n",
       "    <tr style=\"text-align: right;\">\n",
       "      <th>attribute</th>\n",
       "      <th>bus0</th>\n",
       "      <th>bus1</th>\n",
       "      <th>type</th>\n",
       "      <th>x</th>\n",
       "      <th>r</th>\n",
       "      <th>g</th>\n",
       "      <th>b</th>\n",
       "      <th>s_nom</th>\n",
       "      <th>s_nom_mod</th>\n",
       "      <th>s_nom_extendable</th>\n",
       "      <th>...</th>\n",
       "      <th>v_ang_min</th>\n",
       "      <th>v_ang_max</th>\n",
       "      <th>sub_network</th>\n",
       "      <th>x_pu</th>\n",
       "      <th>r_pu</th>\n",
       "      <th>g_pu</th>\n",
       "      <th>b_pu</th>\n",
       "      <th>x_pu_eff</th>\n",
       "      <th>r_pu_eff</th>\n",
       "      <th>s_nom_opt</th>\n",
       "    </tr>\n",
       "    <tr>\n",
       "      <th>Line</th>\n",
       "      <th></th>\n",
       "      <th></th>\n",
       "      <th></th>\n",
       "      <th></th>\n",
       "      <th></th>\n",
       "      <th></th>\n",
       "      <th></th>\n",
       "      <th></th>\n",
       "      <th></th>\n",
       "      <th></th>\n",
       "      <th></th>\n",
       "      <th></th>\n",
       "      <th></th>\n",
       "      <th></th>\n",
       "      <th></th>\n",
       "      <th></th>\n",
       "      <th></th>\n",
       "      <th></th>\n",
       "      <th></th>\n",
       "      <th></th>\n",
       "      <th></th>\n",
       "    </tr>\n",
       "  </thead>\n",
       "  <tbody>\n",
       "    <tr>\n",
       "      <th>AL-BR</th>\n",
       "      <td>AL</td>\n",
       "      <td>BR</td>\n",
       "      <td></td>\n",
       "      <td>1.0</td>\n",
       "      <td>0.0</td>\n",
       "      <td>0.0</td>\n",
       "      <td>0.0</td>\n",
       "      <td>600.0</td>\n",
       "      <td>0.0</td>\n",
       "      <td>False</td>\n",
       "      <td>...</td>\n",
       "      <td>-inf</td>\n",
       "      <td>inf</td>\n",
       "      <td></td>\n",
       "      <td>0.0</td>\n",
       "      <td>0.0</td>\n",
       "      <td>0.0</td>\n",
       "      <td>0.0</td>\n",
       "      <td>0.0</td>\n",
       "      <td>0.0</td>\n",
       "      <td>0.0</td>\n",
       "    </tr>\n",
       "    <tr>\n",
       "      <th>BR-CO</th>\n",
       "      <td>BR</td>\n",
       "      <td>CO</td>\n",
       "      <td></td>\n",
       "      <td>1.0</td>\n",
       "      <td>0.0</td>\n",
       "      <td>0.0</td>\n",
       "      <td>0.0</td>\n",
       "      <td>50.0</td>\n",
       "      <td>0.0</td>\n",
       "      <td>False</td>\n",
       "      <td>...</td>\n",
       "      <td>-inf</td>\n",
       "      <td>inf</td>\n",
       "      <td></td>\n",
       "      <td>0.0</td>\n",
       "      <td>0.0</td>\n",
       "      <td>0.0</td>\n",
       "      <td>0.0</td>\n",
       "      <td>0.0</td>\n",
       "      <td>0.0</td>\n",
       "      <td>0.0</td>\n",
       "    </tr>\n",
       "    <tr>\n",
       "      <th>AL-CO</th>\n",
       "      <td>AL</td>\n",
       "      <td>CO</td>\n",
       "      <td></td>\n",
       "      <td>1.0</td>\n",
       "      <td>0.0</td>\n",
       "      <td>0.0</td>\n",
       "      <td>0.0</td>\n",
       "      <td>200.0</td>\n",
       "      <td>0.0</td>\n",
       "      <td>False</td>\n",
       "      <td>...</td>\n",
       "      <td>-inf</td>\n",
       "      <td>inf</td>\n",
       "      <td></td>\n",
       "      <td>0.0</td>\n",
       "      <td>0.0</td>\n",
       "      <td>0.0</td>\n",
       "      <td>0.0</td>\n",
       "      <td>0.0</td>\n",
       "      <td>0.0</td>\n",
       "      <td>0.0</td>\n",
       "    </tr>\n",
       "  </tbody>\n",
       "</table>\n",
       "<p>3 rows × 30 columns</p>\n",
       "</div>"
      ],
      "text/plain": [
       "attribute bus0 bus1 type    x    r    g    b  s_nom  s_nom_mod  \\\n",
       "Line                                                             \n",
       "AL-BR       AL   BR       1.0  0.0  0.0  0.0  600.0        0.0   \n",
       "BR-CO       BR   CO       1.0  0.0  0.0  0.0   50.0        0.0   \n",
       "AL-CO       AL   CO       1.0  0.0  0.0  0.0  200.0        0.0   \n",
       "\n",
       "attribute  s_nom_extendable  ...  v_ang_min  v_ang_max  sub_network  x_pu  \\\n",
       "Line                         ...                                            \n",
       "AL-BR                 False  ...       -inf        inf                0.0   \n",
       "BR-CO                 False  ...       -inf        inf                0.0   \n",
       "AL-CO                 False  ...       -inf        inf                0.0   \n",
       "\n",
       "attribute  r_pu  g_pu  b_pu x_pu_eff  r_pu_eff  s_nom_opt  \n",
       "Line                                                       \n",
       "AL-BR       0.0   0.0   0.0      0.0       0.0        0.0  \n",
       "BR-CO       0.0   0.0   0.0      0.0       0.0        0.0  \n",
       "AL-CO       0.0   0.0   0.0      0.0       0.0        0.0  \n",
       "\n",
       "[3 rows x 30 columns]"
      ]
     },
     "execution_count": 95,
     "metadata": {},
     "output_type": "execute_result"
    }
   ],
   "source": [
    "for key in transmission_cap.keys():\n",
    "    net.add(\"Line\",\n",
    "          f\"{key}\",\n",
    "          bus0=key[:2],\n",
    "          bus1=key[-2:],\n",
    "          s_nom=transmission_cap[key],\n",
    "          x=1\n",
    "          )\n",
    "net.lines"
   ]
  },
  {
   "cell_type": "code",
   "execution_count": 96,
   "id": "ed243464-4411-468d-bf46-6d06beee7ad0",
   "metadata": {},
   "outputs": [
    {
     "data": {
      "text/html": [
       "<div>\n",
       "<style scoped>\n",
       "    .dataframe tbody tr th:only-of-type {\n",
       "        vertical-align: middle;\n",
       "    }\n",
       "\n",
       "    .dataframe tbody tr th {\n",
       "        vertical-align: top;\n",
       "    }\n",
       "\n",
       "    .dataframe thead th {\n",
       "        text-align: right;\n",
       "    }\n",
       "</style>\n",
       "<table border=\"1\" class=\"dataframe\">\n",
       "  <thead>\n",
       "    <tr style=\"text-align: right;\">\n",
       "      <th>attribute</th>\n",
       "      <th>bus</th>\n",
       "      <th>carrier</th>\n",
       "      <th>type</th>\n",
       "      <th>p_set</th>\n",
       "      <th>q_set</th>\n",
       "      <th>sign</th>\n",
       "    </tr>\n",
       "    <tr>\n",
       "      <th>Load</th>\n",
       "      <th></th>\n",
       "      <th></th>\n",
       "      <th></th>\n",
       "      <th></th>\n",
       "      <th></th>\n",
       "      <th></th>\n",
       "    </tr>\n",
       "  </thead>\n",
       "  <tbody>\n",
       "    <tr>\n",
       "      <th>AL electricity demand</th>\n",
       "      <td>AL</td>\n",
       "      <td>electricity</td>\n",
       "      <td></td>\n",
       "      <td>64000.0</td>\n",
       "      <td>0.0</td>\n",
       "      <td>-1.0</td>\n",
       "    </tr>\n",
       "    <tr>\n",
       "      <th>BR electricity demand</th>\n",
       "      <td>BR</td>\n",
       "      <td>electricity</td>\n",
       "      <td></td>\n",
       "      <td>1200.0</td>\n",
       "      <td>0.0</td>\n",
       "      <td>-1.0</td>\n",
       "    </tr>\n",
       "    <tr>\n",
       "      <th>CO electricity demand</th>\n",
       "      <td>CO</td>\n",
       "      <td>electricity</td>\n",
       "      <td></td>\n",
       "      <td>800.0</td>\n",
       "      <td>0.0</td>\n",
       "      <td>-1.0</td>\n",
       "    </tr>\n",
       "  </tbody>\n",
       "</table>\n",
       "</div>"
      ],
      "text/plain": [
       "attribute             bus      carrier type    p_set  q_set  sign\n",
       "Load                                                             \n",
       "AL electricity demand  AL  electricity       64000.0    0.0  -1.0\n",
       "BR electricity demand  BR  electricity        1200.0    0.0  -1.0\n",
       "CO electricity demand  CO  electricity         800.0    0.0  -1.0"
      ]
     },
     "execution_count": 96,
     "metadata": {},
     "output_type": "execute_result"
    }
   ],
   "source": [
    "net.loads"
   ]
  },
  {
   "cell_type": "code",
   "execution_count": 97,
   "id": "23230aba-da4c-4314-b3ef-435e7fd1576b",
   "metadata": {},
   "outputs": [
    {
     "name": "stderr",
     "output_type": "stream",
     "text": [
      "INFO:pypsa.linopf:Prepare linear problem\n",
      "INFO:pypsa.linopf:Total preparation time: 0.12s\n",
      "INFO:pypsa.linopf:Solve linear problem using Cplex solver\n"
     ]
    },
    {
     "name": "stdout",
     "output_type": "stream",
     "text": [
      "Version identifier: 22.1.1.0 | 2023-06-15 | d64d5bd77\n",
      "CPXPARAM_Read_DataCheck                          1\n",
      "Tried aggregator 1 time.\n",
      "LP Presolve eliminated 22 rows and 10 columns.\n",
      "All rows and columns eliminated.\n",
      "Presolve time = 0.00 sec. (0.01 ticks)\n"
     ]
    },
    {
     "name": "stderr",
     "output_type": "stream",
     "text": [
      "INFO:pypsa.linopf:Optimization successful. Objective value: 2.02e+06\n"
     ]
    },
    {
     "data": {
      "text/plain": [
       "('ok', 'optimal')"
      ]
     },
     "execution_count": 97,
     "metadata": {},
     "output_type": "execute_result"
    }
   ],
   "source": [
    "##(iii)\n",
    "net.lopf(solver_name='cplex')\n"
   ]
  },
  {
   "cell_type": "code",
   "execution_count": 98,
   "id": "04fa7cbe-9319-45aa-b9dc-6fabe0528160",
   "metadata": {},
   "outputs": [
    {
     "name": "stdout",
     "output_type": "stream",
     "text": [
      "Generator dispatch for all power platns in MW(pypsa model)\n"
     ]
    },
    {
     "data": {
      "text/html": [
       "<div>\n",
       "<style scoped>\n",
       "    .dataframe tbody tr th:only-of-type {\n",
       "        vertical-align: middle;\n",
       "    }\n",
       "\n",
       "    .dataframe tbody tr th {\n",
       "        vertical-align: top;\n",
       "    }\n",
       "\n",
       "    .dataframe thead th {\n",
       "        text-align: right;\n",
       "    }\n",
       "</style>\n",
       "<table border=\"1\" class=\"dataframe\">\n",
       "  <thead>\n",
       "    <tr style=\"text-align: right;\">\n",
       "      <th>Generator</th>\n",
       "      <th>AL Coal</th>\n",
       "      <th>AL Wind&amp;Solar</th>\n",
       "      <th>AL Gas</th>\n",
       "      <th>BR Gas</th>\n",
       "      <th>BR Hydro</th>\n",
       "      <th>CO Hydro</th>\n",
       "    </tr>\n",
       "    <tr>\n",
       "      <th>snapshot</th>\n",
       "      <th></th>\n",
       "      <th></th>\n",
       "      <th></th>\n",
       "      <th></th>\n",
       "      <th></th>\n",
       "      <th></th>\n",
       "    </tr>\n",
       "  </thead>\n",
       "  <tbody>\n",
       "    <tr>\n",
       "      <th>now</th>\n",
       "      <td>51000.0</td>\n",
       "      <td>9000.0</td>\n",
       "      <td>3550.0</td>\n",
       "      <td>0.0</td>\n",
       "      <td>1500.0</td>\n",
       "      <td>950.0</td>\n",
       "    </tr>\n",
       "  </tbody>\n",
       "</table>\n",
       "</div>"
      ],
      "text/plain": [
       "Generator  AL Coal  AL Wind&Solar  AL Gas  BR Gas  BR Hydro  CO Hydro\n",
       "snapshot                                                             \n",
       "now        51000.0         9000.0  3550.0     0.0    1500.0     950.0"
      ]
     },
     "execution_count": 98,
     "metadata": {},
     "output_type": "execute_result"
    }
   ],
   "source": [
    "# (iv)\n",
    "\n",
    "print(\"Generator dispatch for all power platns in MW(pypsa model)\")\n",
    "pypsa_gen_cost= net.generators_t.p\n",
    "pypsa_gen_cost"
   ]
  },
  {
   "cell_type": "code",
   "execution_count": 99,
   "id": "3fa9b19e-123e-4ebf-82c7-1782e978fecb",
   "metadata": {},
   "outputs": [
    {
     "name": "stdout",
     "output_type": "stream",
     "text": [
      "The power flows between countries is as follows (MW) . -ve sign shows coming in opposit direction or oposit direction of flow\n"
     ]
    },
    {
     "data": {
      "text/html": [
       "<div>\n",
       "<style scoped>\n",
       "    .dataframe tbody tr th:only-of-type {\n",
       "        vertical-align: middle;\n",
       "    }\n",
       "\n",
       "    .dataframe tbody tr th {\n",
       "        vertical-align: top;\n",
       "    }\n",
       "\n",
       "    .dataframe thead th {\n",
       "        text-align: right;\n",
       "    }\n",
       "</style>\n",
       "<table border=\"1\" class=\"dataframe\">\n",
       "  <thead>\n",
       "    <tr style=\"text-align: right;\">\n",
       "      <th>Line</th>\n",
       "      <th>AL-BR</th>\n",
       "      <th>BR-CO</th>\n",
       "      <th>AL-CO</th>\n",
       "    </tr>\n",
       "    <tr>\n",
       "      <th>snapshot</th>\n",
       "      <th></th>\n",
       "      <th></th>\n",
       "      <th></th>\n",
       "    </tr>\n",
       "  </thead>\n",
       "  <tbody>\n",
       "    <tr>\n",
       "      <th>now</th>\n",
       "      <td>-250.0</td>\n",
       "      <td>50.0</td>\n",
       "      <td>-200.0</td>\n",
       "    </tr>\n",
       "  </tbody>\n",
       "</table>\n",
       "</div>"
      ],
      "text/plain": [
       "Line      AL-BR  BR-CO  AL-CO\n",
       "snapshot                     \n",
       "now      -250.0   50.0 -200.0"
      ]
     },
     "execution_count": 99,
     "metadata": {},
     "output_type": "execute_result"
    }
   ],
   "source": [
    "print(\"The power flows between countries is as follows (MW) . -ve sign shows coming in opposit direction or oposit direction of flow\")\n",
    "f=net.lines_t.p0\n",
    "f"
   ]
  },
  {
   "cell_type": "code",
   "execution_count": 100,
   "id": "34160230-c9a8-4a06-a6be-0b3c8c2c8eb0",
   "metadata": {},
   "outputs": [
    {
     "name": "stdout",
     "output_type": "stream",
     "text": [
      "TTotal cost for the system is(pypsa model) 2.0154 million €\n"
     ]
    }
   ],
   "source": [
    "new_pypsa_cost = sum((net.generators_t.p * net.generators.marginal_cost).sum())/1e6\n",
    "print(f\"TTotal cost for the system is(pypsa model) {new_pypsa_cost:.4f} million €\")"
   ]
  },
  {
   "cell_type": "code",
   "execution_count": 101,
   "id": "4c9947f1-2b8f-4fd4-83c4-72d420e6558c",
   "metadata": {},
   "outputs": [
    {
     "name": "stdout",
     "output_type": "stream",
     "text": [
      "TMarket price for all countries (€/MWh)\n"
     ]
    },
    {
     "data": {
      "text/html": [
       "<div>\n",
       "<style scoped>\n",
       "    .dataframe tbody tr th:only-of-type {\n",
       "        vertical-align: middle;\n",
       "    }\n",
       "\n",
       "    .dataframe tbody tr th {\n",
       "        vertical-align: top;\n",
       "    }\n",
       "\n",
       "    .dataframe thead th {\n",
       "        text-align: right;\n",
       "    }\n",
       "</style>\n",
       "<table border=\"1\" class=\"dataframe\">\n",
       "  <thead>\n",
       "    <tr style=\"text-align: right;\">\n",
       "      <th>Bus</th>\n",
       "      <th>AL</th>\n",
       "      <th>BR</th>\n",
       "      <th>CO</th>\n",
       "    </tr>\n",
       "    <tr>\n",
       "      <th>snapshot</th>\n",
       "      <th></th>\n",
       "      <th></th>\n",
       "      <th></th>\n",
       "    </tr>\n",
       "  </thead>\n",
       "  <tbody>\n",
       "    <tr>\n",
       "      <th>now</th>\n",
       "      <td>75.0</td>\n",
       "      <td>5.0</td>\n",
       "      <td>8.0</td>\n",
       "    </tr>\n",
       "  </tbody>\n",
       "</table>\n",
       "</div>"
      ],
      "text/plain": [
       "Bus         AL   BR   CO\n",
       "snapshot                \n",
       "now       75.0  5.0  8.0"
      ]
     },
     "execution_count": 101,
     "metadata": {},
     "output_type": "execute_result"
    }
   ],
   "source": [
    "print(\"TMarket price for all countries (€/MWh)\")\n",
    "\n",
    "new_pypsa_price = net.buses_t.marginal_price\n",
    "\n",
    "new_pypsa_price"
   ]
  },
  {
   "cell_type": "code",
   "execution_count": 102,
   "id": "5a1fc210-59cf-4176-9e83-70a07a975584",
   "metadata": {},
   "outputs": [],
   "source": [
    "##Task 3c"
   ]
  },
  {
   "cell_type": "code",
   "execution_count": 103,
   "id": "1c833eea-e9a8-4f53-a732-b7fc7c4a60af",
   "metadata": {},
   "outputs": [
    {
     "name": "stdout",
     "output_type": "stream",
     "text": [
      "The total cost of the system is 2.0154 million €\n"
     ]
    }
   ],
   "source": [
    "if new_pypsa_cost == cost_frm_pyomo:\n",
    "    print(f\"The total cost of the system is {cost_frm_pyomo:.4f} million €\")"
   ]
  },
  {
   "cell_type": "code",
   "execution_count": 104,
   "id": "b21fafc0-d801-4550-974c-b2f3a984767a",
   "metadata": {},
   "outputs": [
    {
     "data": {
      "text/html": [
       "<div>\n",
       "<style scoped>\n",
       "    .dataframe tbody tr th:only-of-type {\n",
       "        vertical-align: middle;\n",
       "    }\n",
       "\n",
       "    .dataframe tbody tr th {\n",
       "        vertical-align: top;\n",
       "    }\n",
       "\n",
       "    .dataframe thead th {\n",
       "        text-align: right;\n",
       "    }\n",
       "</style>\n",
       "<table border=\"1\" class=\"dataframe\">\n",
       "  <thead>\n",
       "    <tr style=\"text-align: right;\">\n",
       "      <th>Generator</th>\n",
       "      <th>AL Coal</th>\n",
       "      <th>AL Wind&amp;Solar</th>\n",
       "      <th>AL Gas</th>\n",
       "      <th>BR Gas</th>\n",
       "      <th>BR Hydro</th>\n",
       "      <th>CO Hydro</th>\n",
       "    </tr>\n",
       "    <tr>\n",
       "      <th>snapshot</th>\n",
       "      <th></th>\n",
       "      <th></th>\n",
       "      <th></th>\n",
       "      <th></th>\n",
       "      <th></th>\n",
       "      <th></th>\n",
       "    </tr>\n",
       "  </thead>\n",
       "  <tbody>\n",
       "    <tr>\n",
       "      <th>now</th>\n",
       "      <td>51000.0</td>\n",
       "      <td>9000.0</td>\n",
       "      <td>3550.0</td>\n",
       "      <td>0.0</td>\n",
       "      <td>1500.0</td>\n",
       "      <td>950.0</td>\n",
       "    </tr>\n",
       "  </tbody>\n",
       "</table>\n",
       "</div>"
      ],
      "text/plain": [
       "Generator  AL Coal  AL Wind&Solar  AL Gas  BR Gas  BR Hydro  CO Hydro\n",
       "snapshot                                                             \n",
       "now        51000.0         9000.0  3550.0     0.0    1500.0     950.0"
      ]
     },
     "execution_count": 104,
     "metadata": {},
     "output_type": "execute_result"
    }
   ],
   "source": [
    "pypsa_gen_cost"
   ]
  },
  {
   "cell_type": "code",
   "execution_count": 105,
   "id": "a6291ec8-9e80-462a-82ff-e5c109904e55",
   "metadata": {},
   "outputs": [
    {
     "data": {
      "text/html": [
       "<div>\n",
       "<style scoped>\n",
       "    .dataframe tbody tr th:only-of-type {\n",
       "        vertical-align: middle;\n",
       "    }\n",
       "\n",
       "    .dataframe tbody tr th {\n",
       "        vertical-align: top;\n",
       "    }\n",
       "\n",
       "    .dataframe thead th {\n",
       "        text-align: right;\n",
       "    }\n",
       "</style>\n",
       "<table border=\"1\" class=\"dataframe\">\n",
       "  <thead>\n",
       "    <tr style=\"text-align: right;\">\n",
       "      <th></th>\n",
       "      <th>Coal</th>\n",
       "      <th>Gas</th>\n",
       "      <th>Hydro</th>\n",
       "      <th>Wind&amp;Solar</th>\n",
       "    </tr>\n",
       "  </thead>\n",
       "  <tbody>\n",
       "    <tr>\n",
       "      <th>AL</th>\n",
       "      <td>51000.0</td>\n",
       "      <td>3550.0</td>\n",
       "      <td>-0.0</td>\n",
       "      <td>9000.0</td>\n",
       "    </tr>\n",
       "    <tr>\n",
       "      <th>BR</th>\n",
       "      <td>-0.0</td>\n",
       "      <td>0.0</td>\n",
       "      <td>1500.0</td>\n",
       "      <td>-0.0</td>\n",
       "    </tr>\n",
       "    <tr>\n",
       "      <th>CO</th>\n",
       "      <td>-0.0</td>\n",
       "      <td>-0.0</td>\n",
       "      <td>950.0</td>\n",
       "      <td>-0.0</td>\n",
       "    </tr>\n",
       "  </tbody>\n",
       "</table>\n",
       "</div>"
      ],
      "text/plain": [
       "       Coal     Gas   Hydro  Wind&Solar\n",
       "AL  51000.0  3550.0    -0.0      9000.0\n",
       "BR     -0.0     0.0  1500.0        -0.0\n",
       "CO     -0.0    -0.0   950.0        -0.0"
      ]
     },
     "execution_count": 105,
     "metadata": {},
     "output_type": "execute_result"
    }
   ],
   "source": [
    "dis_genr"
   ]
  },
  {
   "cell_type": "code",
   "execution_count": 106,
   "id": "1e4a09c0-12ed-476c-8364-a68880af0035",
   "metadata": {},
   "outputs": [],
   "source": [
    "## both model has same almost same results"
   ]
  },
  {
   "cell_type": "code",
   "execution_count": 107,
   "id": "1cf27e20-3aaf-427d-9ac0-7eb284eacbf1",
   "metadata": {},
   "outputs": [
    {
     "data": {
      "text/plain": [
       "2.01535"
      ]
     },
     "execution_count": 107,
     "metadata": {},
     "output_type": "execute_result"
    }
   ],
   "source": [
    "new_pypsa_cost"
   ]
  },
  {
   "cell_type": "code",
   "execution_count": 108,
   "id": "dbc82c02-b92e-40dc-ab63-43c5b46df8c0",
   "metadata": {},
   "outputs": [
    {
     "data": {
      "text/plain": [
       "2.01535"
      ]
     },
     "execution_count": 108,
     "metadata": {},
     "output_type": "execute_result"
    }
   ],
   "source": [
    "cost_frm_pyomo"
   ]
  },
  {
   "cell_type": "code",
   "execution_count": 109,
   "id": "6d795987-1a50-49d2-84b1-607bc51e1225",
   "metadata": {},
   "outputs": [],
   "source": [
    "import matplotlib.colors as mcolors"
   ]
  },
  {
   "cell_type": "code",
   "execution_count": 113,
   "id": "6a40bbb3-aa47-4037-8356-8c72640b7a4f",
   "metadata": {},
   "outputs": [
    {
     "ename": "KeyError",
     "evalue": "\"None of [Index(['Coal', 'Gas', 'Hydro', 'Wind&Solar'], dtype='object', name='carrier')] are in the [index]\"",
     "output_type": "error",
     "traceback": [
      "\u001b[0;31m---------------------------------------------------------------------------\u001b[0m",
      "\u001b[0;31mKeyError\u001b[0m                                  Traceback (most recent call last)",
      "Cell \u001b[0;32mIn[113], line 15\u001b[0m\n\u001b[1;32m     13\u001b[0m net\u001b[38;5;241m.\u001b[39mbuses[\u001b[38;5;124m\"\u001b[39m\u001b[38;5;124my\u001b[39m\u001b[38;5;124m\"\u001b[39m] \u001b[38;5;241m=\u001b[39m net\u001b[38;5;241m.\u001b[39mbuses\u001b[38;5;241m.\u001b[39mindex\u001b[38;5;241m.\u001b[39mmap(\u001b[38;5;28;01mlambda\u001b[39;00m bus: buses_coordinates[bus][\u001b[38;5;241m1\u001b[39m])\n\u001b[1;32m     14\u001b[0m \u001b[38;5;66;03m# Plotting the map with dispatch per technology as a pie chart\u001b[39;00m\n\u001b[0;32m---> 15\u001b[0m ax \u001b[38;5;241m=\u001b[39m \u001b[43mnet\u001b[49m\u001b[38;5;241;43m.\u001b[39;49m\u001b[43mplot\u001b[49m\u001b[43m(\u001b[49m\u001b[43mbus_sizes\u001b[49m\u001b[38;5;241;43m=\u001b[39;49m\u001b[43mnet\u001b[49m\u001b[38;5;241;43m.\u001b[39;49m\u001b[43mgenerators_t\u001b[49m\u001b[38;5;241;43m.\u001b[39;49m\u001b[43mp\u001b[49m\u001b[38;5;241;43m.\u001b[39;49m\u001b[43mgroupby\u001b[49m\u001b[43m(\u001b[49m\u001b[43mnet\u001b[49m\u001b[38;5;241;43m.\u001b[39;49m\u001b[43mgenerators\u001b[49m\u001b[38;5;241;43m.\u001b[39;49m\u001b[43mcarrier\u001b[49m\u001b[43m,\u001b[49m\u001b[43m \u001b[49m\u001b[43maxis\u001b[49m\u001b[38;5;241;43m=\u001b[39;49m\u001b[38;5;241;43m1\u001b[39;49m\u001b[43m)\u001b[49m\u001b[38;5;241;43m.\u001b[39;49m\u001b[43msum\u001b[49m\u001b[43m(\u001b[49m\u001b[43m)\u001b[49m\u001b[38;5;241;43m.\u001b[39;49m\u001b[43msum\u001b[49m\u001b[43m(\u001b[49m\u001b[43maxis\u001b[49m\u001b[38;5;241;43m=\u001b[39;49m\u001b[38;5;241;43m0\u001b[39;49m\u001b[43m)\u001b[49m\u001b[43m,\u001b[49m\n\u001b[1;32m     16\u001b[0m \u001b[43m            \u001b[49m\u001b[43mbus_colors\u001b[49m\u001b[38;5;241;43m=\u001b[39;49m\u001b[43mnet\u001b[49m\u001b[38;5;241;43m.\u001b[39;49m\u001b[43mbuses\u001b[49m\u001b[38;5;241;43m.\u001b[39;49m\u001b[43mcarrier\u001b[49m\u001b[38;5;241;43m.\u001b[39;49m\u001b[43mmap\u001b[49m\u001b[43m(\u001b[49m\u001b[43mnet\u001b[49m\u001b[38;5;241;43m.\u001b[39;49m\u001b[43mcarriers\u001b[49m\u001b[38;5;241;43m.\u001b[39;49m\u001b[43mcolor\u001b[49m\u001b[43m)\u001b[49m\u001b[43m,\u001b[49m\n\u001b[1;32m     17\u001b[0m \u001b[43m            \u001b[49m\u001b[43mline_colors\u001b[49m\u001b[38;5;241;43m=\u001b[39;49m\u001b[43mnet\u001b[49m\u001b[38;5;241;43m.\u001b[39;49m\u001b[43mlines\u001b[49m\u001b[43m[\u001b[49m\u001b[38;5;124;43m\"\u001b[39;49m\u001b[38;5;124;43mloading_percent\u001b[39;49m\u001b[38;5;124;43m\"\u001b[39;49m\u001b[43m]\u001b[49m\u001b[43m \u001b[49m\u001b[38;5;241;43m/\u001b[39;49m\u001b[43m \u001b[49m\u001b[38;5;241;43m100\u001b[39;49m\u001b[43m,\u001b[49m\n\u001b[1;32m     18\u001b[0m \u001b[43m            \u001b[49m\u001b[43mline_cmap\u001b[49m\u001b[38;5;241;43m=\u001b[39;49m\u001b[43mplt\u001b[49m\u001b[38;5;241;43m.\u001b[39;49m\u001b[43mcm\u001b[49m\u001b[38;5;241;43m.\u001b[39;49m\u001b[43mRdYlBu\u001b[49m\u001b[43m,\u001b[49m\n\u001b[1;32m     19\u001b[0m \u001b[43m            \u001b[49m\n\u001b[1;32m     20\u001b[0m \u001b[43m            \u001b[49m\u001b[43mtitle\u001b[49m\u001b[38;5;241;43m=\u001b[39;49m\u001b[38;5;124;43m\"\u001b[39;49m\u001b[38;5;124;43mPyPSA Dispatch Map\u001b[39;49m\u001b[38;5;124;43m\"\u001b[39;49m\u001b[43m,\u001b[49m\n\u001b[1;32m     21\u001b[0m \u001b[43m            \u001b[49m\n\u001b[1;32m     22\u001b[0m \u001b[43m            \u001b[49m\n\u001b[1;32m     23\u001b[0m \u001b[43m            \u001b[49m\u001b[43m)\u001b[49m\n\u001b[1;32m     26\u001b[0m \u001b[38;5;66;03m# Manually plot each bus with customized edge color\u001b[39;00m\n\u001b[1;32m     27\u001b[0m \u001b[38;5;28;01mfor\u001b[39;00m bus, row \u001b[38;5;129;01min\u001b[39;00m n\u001b[38;5;241m.\u001b[39mbuses\u001b[38;5;241m.\u001b[39miterrows():\n",
      "File \u001b[0;32m/opt/anaconda3/envs/esm-2024/lib/python3.11/site-packages/pypsa/plot.py:199\u001b[0m, in \u001b[0;36mplot\u001b[0;34m(n, margin, ax, geomap, projection, bus_colors, bus_alpha, bus_sizes, bus_cmap, bus_norm, bus_split_circles, line_colors, link_colors, transformer_colors, line_alpha, link_alpha, transformer_alpha, line_widths, link_widths, transformer_widths, line_cmap, link_cmap, transformer_cmap, line_norm, link_norm, transformer_norm, flow, branch_components, layouter, title, boundaries, geometry, jitter, color_geomap)\u001b[0m\n\u001b[1;32m    195\u001b[0m         buses \u001b[38;5;241m=\u001b[39m buses\u001b[38;5;241m.\u001b[39munique(\u001b[38;5;241m0\u001b[39m)\n\u001b[1;32m    197\u001b[0m \u001b[38;5;28;01mif\u001b[39;00m boundaries \u001b[38;5;129;01mis\u001b[39;00m \u001b[38;5;28;01mNone\u001b[39;00m:\n\u001b[1;32m    198\u001b[0m     boundaries \u001b[38;5;241m=\u001b[39m \u001b[38;5;28msum\u001b[39m(\n\u001b[0;32m--> 199\u001b[0m         \u001b[38;5;28mzip\u001b[39m(\u001b[38;5;241m*\u001b[39mcompute_bbox_with_margins(margin, \u001b[43mx\u001b[49m\u001b[43m[\u001b[49m\u001b[43mbuses\u001b[49m\u001b[43m]\u001b[49m, y[buses])), ()\n\u001b[1;32m    200\u001b[0m     )\n\u001b[1;32m    202\u001b[0m \u001b[38;5;28;01mif\u001b[39;00m geomap \u001b[38;5;129;01mand\u001b[39;00m \u001b[38;5;129;01mnot\u001b[39;00m cartopy_present:\n\u001b[1;32m    203\u001b[0m     logger\u001b[38;5;241m.\u001b[39mwarning(\u001b[38;5;124m\"\u001b[39m\u001b[38;5;124mCartopy needs to be installed to use `geomap=True`.\u001b[39m\u001b[38;5;124m\"\u001b[39m)\n",
      "File \u001b[0;32m/opt/anaconda3/envs/esm-2024/lib/python3.11/site-packages/pandas/core/series.py:1153\u001b[0m, in \u001b[0;36mSeries.__getitem__\u001b[0;34m(self, key)\u001b[0m\n\u001b[1;32m   1150\u001b[0m     key \u001b[38;5;241m=\u001b[39m np\u001b[38;5;241m.\u001b[39masarray(key, dtype\u001b[38;5;241m=\u001b[39m\u001b[38;5;28mbool\u001b[39m)\n\u001b[1;32m   1151\u001b[0m     \u001b[38;5;28;01mreturn\u001b[39;00m \u001b[38;5;28mself\u001b[39m\u001b[38;5;241m.\u001b[39m_get_rows_with_mask(key)\n\u001b[0;32m-> 1153\u001b[0m \u001b[38;5;28;01mreturn\u001b[39;00m \u001b[38;5;28;43mself\u001b[39;49m\u001b[38;5;241;43m.\u001b[39;49m\u001b[43m_get_with\u001b[49m\u001b[43m(\u001b[49m\u001b[43mkey\u001b[49m\u001b[43m)\u001b[49m\n",
      "File \u001b[0;32m/opt/anaconda3/envs/esm-2024/lib/python3.11/site-packages/pandas/core/series.py:1194\u001b[0m, in \u001b[0;36mSeries._get_with\u001b[0;34m(self, key)\u001b[0m\n\u001b[1;32m   1191\u001b[0m         \u001b[38;5;28;01mreturn\u001b[39;00m \u001b[38;5;28mself\u001b[39m\u001b[38;5;241m.\u001b[39miloc[key]\n\u001b[1;32m   1193\u001b[0m \u001b[38;5;66;03m# handle the dup indexing case GH#4246\u001b[39;00m\n\u001b[0;32m-> 1194\u001b[0m \u001b[38;5;28;01mreturn\u001b[39;00m \u001b[38;5;28;43mself\u001b[39;49m\u001b[38;5;241;43m.\u001b[39;49m\u001b[43mloc\u001b[49m\u001b[43m[\u001b[49m\u001b[43mkey\u001b[49m\u001b[43m]\u001b[49m\n",
      "File \u001b[0;32m/opt/anaconda3/envs/esm-2024/lib/python3.11/site-packages/pandas/core/indexing.py:1191\u001b[0m, in \u001b[0;36m_LocationIndexer.__getitem__\u001b[0;34m(self, key)\u001b[0m\n\u001b[1;32m   1189\u001b[0m maybe_callable \u001b[38;5;241m=\u001b[39m com\u001b[38;5;241m.\u001b[39mapply_if_callable(key, \u001b[38;5;28mself\u001b[39m\u001b[38;5;241m.\u001b[39mobj)\n\u001b[1;32m   1190\u001b[0m maybe_callable \u001b[38;5;241m=\u001b[39m \u001b[38;5;28mself\u001b[39m\u001b[38;5;241m.\u001b[39m_check_deprecated_callable_usage(key, maybe_callable)\n\u001b[0;32m-> 1191\u001b[0m \u001b[38;5;28;01mreturn\u001b[39;00m \u001b[38;5;28;43mself\u001b[39;49m\u001b[38;5;241;43m.\u001b[39;49m\u001b[43m_getitem_axis\u001b[49m\u001b[43m(\u001b[49m\u001b[43mmaybe_callable\u001b[49m\u001b[43m,\u001b[49m\u001b[43m \u001b[49m\u001b[43maxis\u001b[49m\u001b[38;5;241;43m=\u001b[39;49m\u001b[43maxis\u001b[49m\u001b[43m)\u001b[49m\n",
      "File \u001b[0;32m/opt/anaconda3/envs/esm-2024/lib/python3.11/site-packages/pandas/core/indexing.py:1420\u001b[0m, in \u001b[0;36m_LocIndexer._getitem_axis\u001b[0;34m(self, key, axis)\u001b[0m\n\u001b[1;32m   1417\u001b[0m     \u001b[38;5;28;01mif\u001b[39;00m \u001b[38;5;28mhasattr\u001b[39m(key, \u001b[38;5;124m\"\u001b[39m\u001b[38;5;124mndim\u001b[39m\u001b[38;5;124m\"\u001b[39m) \u001b[38;5;129;01mand\u001b[39;00m key\u001b[38;5;241m.\u001b[39mndim \u001b[38;5;241m>\u001b[39m \u001b[38;5;241m1\u001b[39m:\n\u001b[1;32m   1418\u001b[0m         \u001b[38;5;28;01mraise\u001b[39;00m \u001b[38;5;167;01mValueError\u001b[39;00m(\u001b[38;5;124m\"\u001b[39m\u001b[38;5;124mCannot index with multidimensional key\u001b[39m\u001b[38;5;124m\"\u001b[39m)\n\u001b[0;32m-> 1420\u001b[0m     \u001b[38;5;28;01mreturn\u001b[39;00m \u001b[38;5;28;43mself\u001b[39;49m\u001b[38;5;241;43m.\u001b[39;49m\u001b[43m_getitem_iterable\u001b[49m\u001b[43m(\u001b[49m\u001b[43mkey\u001b[49m\u001b[43m,\u001b[49m\u001b[43m \u001b[49m\u001b[43maxis\u001b[49m\u001b[38;5;241;43m=\u001b[39;49m\u001b[43maxis\u001b[49m\u001b[43m)\u001b[49m\n\u001b[1;32m   1422\u001b[0m \u001b[38;5;66;03m# nested tuple slicing\u001b[39;00m\n\u001b[1;32m   1423\u001b[0m \u001b[38;5;28;01mif\u001b[39;00m is_nested_tuple(key, labels):\n",
      "File \u001b[0;32m/opt/anaconda3/envs/esm-2024/lib/python3.11/site-packages/pandas/core/indexing.py:1360\u001b[0m, in \u001b[0;36m_LocIndexer._getitem_iterable\u001b[0;34m(self, key, axis)\u001b[0m\n\u001b[1;32m   1357\u001b[0m \u001b[38;5;28mself\u001b[39m\u001b[38;5;241m.\u001b[39m_validate_key(key, axis)\n\u001b[1;32m   1359\u001b[0m \u001b[38;5;66;03m# A collection of keys\u001b[39;00m\n\u001b[0;32m-> 1360\u001b[0m keyarr, indexer \u001b[38;5;241m=\u001b[39m \u001b[38;5;28;43mself\u001b[39;49m\u001b[38;5;241;43m.\u001b[39;49m\u001b[43m_get_listlike_indexer\u001b[49m\u001b[43m(\u001b[49m\u001b[43mkey\u001b[49m\u001b[43m,\u001b[49m\u001b[43m \u001b[49m\u001b[43maxis\u001b[49m\u001b[43m)\u001b[49m\n\u001b[1;32m   1361\u001b[0m \u001b[38;5;28;01mreturn\u001b[39;00m \u001b[38;5;28mself\u001b[39m\u001b[38;5;241m.\u001b[39mobj\u001b[38;5;241m.\u001b[39m_reindex_with_indexers(\n\u001b[1;32m   1362\u001b[0m     {axis: [keyarr, indexer]}, copy\u001b[38;5;241m=\u001b[39m\u001b[38;5;28;01mTrue\u001b[39;00m, allow_dups\u001b[38;5;241m=\u001b[39m\u001b[38;5;28;01mTrue\u001b[39;00m\n\u001b[1;32m   1363\u001b[0m )\n",
      "File \u001b[0;32m/opt/anaconda3/envs/esm-2024/lib/python3.11/site-packages/pandas/core/indexing.py:1558\u001b[0m, in \u001b[0;36m_LocIndexer._get_listlike_indexer\u001b[0;34m(self, key, axis)\u001b[0m\n\u001b[1;32m   1555\u001b[0m ax \u001b[38;5;241m=\u001b[39m \u001b[38;5;28mself\u001b[39m\u001b[38;5;241m.\u001b[39mobj\u001b[38;5;241m.\u001b[39m_get_axis(axis)\n\u001b[1;32m   1556\u001b[0m axis_name \u001b[38;5;241m=\u001b[39m \u001b[38;5;28mself\u001b[39m\u001b[38;5;241m.\u001b[39mobj\u001b[38;5;241m.\u001b[39m_get_axis_name(axis)\n\u001b[0;32m-> 1558\u001b[0m keyarr, indexer \u001b[38;5;241m=\u001b[39m \u001b[43max\u001b[49m\u001b[38;5;241;43m.\u001b[39;49m\u001b[43m_get_indexer_strict\u001b[49m\u001b[43m(\u001b[49m\u001b[43mkey\u001b[49m\u001b[43m,\u001b[49m\u001b[43m \u001b[49m\u001b[43maxis_name\u001b[49m\u001b[43m)\u001b[49m\n\u001b[1;32m   1560\u001b[0m \u001b[38;5;28;01mreturn\u001b[39;00m keyarr, indexer\n",
      "File \u001b[0;32m/opt/anaconda3/envs/esm-2024/lib/python3.11/site-packages/pandas/core/indexes/base.py:6200\u001b[0m, in \u001b[0;36mIndex._get_indexer_strict\u001b[0;34m(self, key, axis_name)\u001b[0m\n\u001b[1;32m   6197\u001b[0m \u001b[38;5;28;01melse\u001b[39;00m:\n\u001b[1;32m   6198\u001b[0m     keyarr, indexer, new_indexer \u001b[38;5;241m=\u001b[39m \u001b[38;5;28mself\u001b[39m\u001b[38;5;241m.\u001b[39m_reindex_non_unique(keyarr)\n\u001b[0;32m-> 6200\u001b[0m \u001b[38;5;28;43mself\u001b[39;49m\u001b[38;5;241;43m.\u001b[39;49m\u001b[43m_raise_if_missing\u001b[49m\u001b[43m(\u001b[49m\u001b[43mkeyarr\u001b[49m\u001b[43m,\u001b[49m\u001b[43m \u001b[49m\u001b[43mindexer\u001b[49m\u001b[43m,\u001b[49m\u001b[43m \u001b[49m\u001b[43maxis_name\u001b[49m\u001b[43m)\u001b[49m\n\u001b[1;32m   6202\u001b[0m keyarr \u001b[38;5;241m=\u001b[39m \u001b[38;5;28mself\u001b[39m\u001b[38;5;241m.\u001b[39mtake(indexer)\n\u001b[1;32m   6203\u001b[0m \u001b[38;5;28;01mif\u001b[39;00m \u001b[38;5;28misinstance\u001b[39m(key, Index):\n\u001b[1;32m   6204\u001b[0m     \u001b[38;5;66;03m# GH 42790 - Preserve name from an Index\u001b[39;00m\n",
      "File \u001b[0;32m/opt/anaconda3/envs/esm-2024/lib/python3.11/site-packages/pandas/core/indexes/base.py:6249\u001b[0m, in \u001b[0;36mIndex._raise_if_missing\u001b[0;34m(self, key, indexer, axis_name)\u001b[0m\n\u001b[1;32m   6247\u001b[0m \u001b[38;5;28;01mif\u001b[39;00m nmissing:\n\u001b[1;32m   6248\u001b[0m     \u001b[38;5;28;01mif\u001b[39;00m nmissing \u001b[38;5;241m==\u001b[39m \u001b[38;5;28mlen\u001b[39m(indexer):\n\u001b[0;32m-> 6249\u001b[0m         \u001b[38;5;28;01mraise\u001b[39;00m \u001b[38;5;167;01mKeyError\u001b[39;00m(\u001b[38;5;124mf\u001b[39m\u001b[38;5;124m\"\u001b[39m\u001b[38;5;124mNone of [\u001b[39m\u001b[38;5;132;01m{\u001b[39;00mkey\u001b[38;5;132;01m}\u001b[39;00m\u001b[38;5;124m] are in the [\u001b[39m\u001b[38;5;132;01m{\u001b[39;00maxis_name\u001b[38;5;132;01m}\u001b[39;00m\u001b[38;5;124m]\u001b[39m\u001b[38;5;124m\"\u001b[39m)\n\u001b[1;32m   6251\u001b[0m     not_found \u001b[38;5;241m=\u001b[39m \u001b[38;5;28mlist\u001b[39m(ensure_index(key)[missing_mask\u001b[38;5;241m.\u001b[39mnonzero()[\u001b[38;5;241m0\u001b[39m]]\u001b[38;5;241m.\u001b[39munique())\n\u001b[1;32m   6252\u001b[0m     \u001b[38;5;28;01mraise\u001b[39;00m \u001b[38;5;167;01mKeyError\u001b[39;00m(\u001b[38;5;124mf\u001b[39m\u001b[38;5;124m\"\u001b[39m\u001b[38;5;132;01m{\u001b[39;00mnot_found\u001b[38;5;132;01m}\u001b[39;00m\u001b[38;5;124m not in index\u001b[39m\u001b[38;5;124m\"\u001b[39m)\n",
      "\u001b[0;31mKeyError\u001b[0m: \"None of [Index(['Coal', 'Gas', 'Hydro', 'Wind&Solar'], dtype='object', name='carrier')] are in the [index]\""
     ]
    }
   ],
   "source": [
    "world = gpd.read_file(gpd.datasets.get_path('naturalearth_lowres'))\n",
    "\n",
    "carrier_colors = {\"Coal\": \"brown\", \"Wind&Solar\": \"green\", \"Gas\": \"orange\", \"Hydro\": \"blue\"}\n",
    "line_loading_attribute = \"carrier\"\n",
    "line_capacity_attribute = \"length\"\n",
    "\n",
    "net.lines[line_loading_attribute] = pd.to_numeric(net.lines[line_loading_attribute], errors='coerce')\n",
    "net.lines[line_capacity_attribute] = pd.to_numeric(net.lines[line_capacity_attribute], errors='coerce')\n",
    "\n",
    "net.lines[\"loading_percent\"] = net.lines[line_loading_attribute] / net.lines[line_capacity_attribute] * 100\n",
    "buses_coordinates = {\"AL\": (-50, -15), \"BR\": (-63, -17), \"CO\": (-56, -24)}\n",
    "net.buses[\"x\"] = net.buses.index.map(lambda bus: buses_coordinates[bus][0])\n",
    "net.buses[\"y\"] = net.buses.index.map(lambda bus: buses_coordinates[bus][1])\n",
    "# Plotting the map with dispatch per technology as a pie chart\n",
    "ax = net.plot(bus_sizes=net.generators_t.p.groupby(net.generators.carrier, axis=1).sum().sum(axis=0),\n",
    "            bus_colors=net.buses.carrier.map(net.carriers.color),\n",
    "            line_colors=net.lines[\"loading_percent\"] / 100,\n",
    "            line_cmap=plt.cm.RdYlBu,\n",
    "            \n",
    "            title=\" Dispatch Map\",\n",
    "            \n",
    "            \n",
    "            )\n",
    "\n",
    "\n",
    "# Manually plot each bus with customized edge color\n",
    "for bus, row in n.buses.iterrows():\n",
    "    ax.scatter(row['x'], row['y'], color=row['carrier_color'], edgecolors='black', s=100, label=bus)\n",
    "\n",
    "plt.show()"
   ]
  },
  {
   "cell_type": "code",
   "execution_count": null,
   "id": "e21b513e-a310-412a-b493-59bf690bc879",
   "metadata": {},
   "outputs": [],
   "source": []
  },
  {
   "cell_type": "code",
   "execution_count": null,
   "id": "1b456196-0916-455c-9791-ba1786bf5e16",
   "metadata": {},
   "outputs": [],
   "source": []
  }
 ],
 "metadata": {
  "kernelspec": {
   "display_name": "Python 3 (ipykernel)",
   "language": "python",
   "name": "python3"
  },
  "language_info": {
   "codemirror_mode": {
    "name": "ipython",
    "version": 3
   },
   "file_extension": ".py",
   "mimetype": "text/x-python",
   "name": "python",
   "nbconvert_exporter": "python",
   "pygments_lexer": "ipython3",
   "version": "3.11.7"
  }
 },
 "nbformat": 4,
 "nbformat_minor": 5
}
